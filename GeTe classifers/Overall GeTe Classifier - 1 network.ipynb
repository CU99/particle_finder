{
 "cells": [
  {
   "cell_type": "code",
   "execution_count": 1,
   "metadata": {},
   "outputs": [],
   "source": [
    "try:\n",
    "  # %tensorflow_version only exists in Colab.\n",
    "  %tensorflow_version 2.x\n",
    "except Exception:\n",
    "  pass\n"
   ]
  },
  {
   "cell_type": "code",
   "execution_count": 2,
   "metadata": {},
   "outputs": [
    {
     "name": "stdout",
     "output_type": "stream",
     "text": [
      "2.0.1\n",
      "3.6.9\n"
     ]
    }
   ],
   "source": [
    "from __future__ import absolute_import, division, print_function, unicode_literals\n",
    "\n",
    "# TensorFlow and tf.keras\n",
    "import tensorflow as tf\n",
    "from tensorflow import keras\n",
    "\n",
    "# Helper libraries\n",
    "import numpy as np\n",
    "import matplotlib.pyplot as plt\n",
    "import time\n",
    "from ase.io import read\n",
    "import quippy\n",
    "from platform import python_version\n",
    "from mayavi import mlab\n",
    "import ase.neighborlist as nl\n",
    "\n",
    "print(tf.__version__)\n",
    "print(python_version())"
   ]
  },
  {
   "cell_type": "code",
   "execution_count": 3,
   "metadata": {},
   "outputs": [],
   "source": [
    "file = 'beta_99.xyz'\n",
    "GeTe_classifier = keras.models.load_model('GeTe_classifier_1.h5')"
   ]
  },
  {
   "cell_type": "code",
   "execution_count": 4,
   "metadata": {},
   "outputs": [],
   "source": [
    "#find SOAP+sym descriptor\n",
    "def find_descriptor(file):\n",
    "    my_atoms=read(file)\n",
    "    coords=my_atoms.get_positions(wrap=False)\n",
    "    symbols =my_atoms.get_chemical_symbols()\n",
    "    #find nearest neighbour vectors\n",
    "    FirstAtom, SecondAtom, vects = nl.neighbor_list(['i','j','D'], my_atoms, 4.25, self_interaction=False)\n",
    "    #ensure periodic boundary conditions are kept\n",
    "    cell = my_atoms.get_cell()\n",
    "    newvects = nl.mic(vects, cell, pbc=[True, True, True])\n",
    "    #get SOAP descriptors\n",
    "    soap_desc=quippy.descriptors.Descriptor(\"soap cutoff=4.25 cutoff_transition_width=0.0 atom_sigma=0.7 n_max =8 l_max=3 n_species=2 species_Z={32 52}\")\n",
    "    soap_descriptors=soap_desc.calc(my_atoms)['data']\n",
    "    descriptors=[]\n",
    "    #work out symmetry functions for each particle\n",
    "    for i in range(len(symbols)):\n",
    "        #append soap descriptor to full descriptor list\n",
    "        desc=[]\n",
    "        desc.extend(soap_descriptors[i])\n",
    "        #find indices of neighburs of i\n",
    "        indices = [a for a, x in enumerate(FirstAtom) if x == i]\n",
    "        #find vectors between i and its neighbours\n",
    "        neigh_vec=np.array([newvects[b] for b in indices])       \n",
    "        #sum each function over all the neighbours\n",
    "        f1=0\n",
    "        f2=0\n",
    "        s1=0\n",
    "        s2=0\n",
    "        s3=0\n",
    "        t1=0\n",
    "        t2=0\n",
    "        t3=0\n",
    "        t4=0\n",
    "        fo1=0\n",
    "        fo2=0\n",
    "        fo3=0\n",
    "        fo4=0\n",
    "        fo5=0\n",
    "        ff1=0\n",
    "        ff2=0\n",
    "        ff3=0\n",
    "        ff4=0\n",
    "        ff5=0\n",
    "        ff6=0\n",
    "        bfo=0\n",
    "        #for each neighbouring particle to particle i: \n",
    "        for j, n in enumerate(neigh_vec):\n",
    "            #normalise the vector connecting i to j\n",
    "            vector = n/np.linalg.norm(n)\n",
    "            #split into x, y and z\n",
    "            x,y,z=vector[0],vector[1],vector[2]\n",
    "            #Work out all symmetry functions\n",
    "            first_1 = 0.5*x +0.866025*y \n",
    "            first_2 = z\n",
    "            f1+=first_1\n",
    "            f2+=first_2\n",
    "            second_1 = 0.540062*x**2 -0.801784*x*y +0.0771517*y**2 -0.617213*z**2 \n",
    "            second_2 = 0.92582*x*y + 0.534522*y**2 -0.534522*z**2 \n",
    "            second_3 = 0.707107*x*z + 1.22474*y*z\n",
    "            s1+=second_1\n",
    "            s2+=second_2\n",
    "            s3+=second_3\n",
    "            third_1 = 0.53619*x**3 + 0.121136*x**2*y -1.32882*x*y**2 + 0.121136*y**3 -0.279751*x*z**2 -0.484544*y*z**2\n",
    "            third_2 = 0.312772*x**2*y + 0.722315*x*y**2 + 0.312772*y**3 -0.722315*x*z**2 -1.25109*y*z**2\n",
    "            third_3 = 1.12916*x**2*z -1.15045*x*y*z + 0.464948*y**2*z -0.531369*z**3\n",
    "            third_4 = 1.78227*x*y*z + 1.02899*y**2*z -0.342997*z**3\n",
    "            t1+=third_1\n",
    "            t2+=third_2\n",
    "            t3+=third_3\n",
    "            t4+=third_4\n",
    "            fourth_1 = 0.285044*x**4 + 0.542539*x**3*y -0.432264*x**2*y**2 -0.97657*x*y**3 + 0.15975*y**4 -1.278*x**2*z**2 + 1.30209*x*y*z**2 -0.526235*y**2*z**2 + 0.300706*z**4\n",
    "            fourth_2 = 1.19161*x**3*y -0.893343*x**2*y**2 -0.63434*x*y**3 + 0.16087*y**4 + 0.893343*x**2*z**2 -1.67181*x*y*z**2 -0.0718782*y**2*z**2 -0.136911*z**4\n",
    "            fourth_3 = 1.14953*x**3*z + 0.48431*x**2*y*z -2.33014*x*y**2*z + 0.48431*y**3*z -0.372822*x*z**3 -0.645746*y*z**3\n",
    "            fourth_4 = 0.518321*x**2*y**2 + 0.598506*x*y**3 + 0.172774*y**4 -0.518321*x**2*z**2 -1.79552*x*y*z**2 -1.55496*y**2*z**2 + 0.345547*z**4\n",
    "            fourth_5 = 0.854242*x**2*y*z + 1.97279*x*y**2*z + 0.854242*y**3*z -0.657596*x*z**3 -1.13899*y*z**3\n",
    "            fo1+=fourth_1\n",
    "            fo2+=fourth_2\n",
    "            fo3+=fourth_3\n",
    "            fo4+=fourth_4\n",
    "            fo5+=fourth_5\n",
    "            fifth_1 = 0.240391*x**5 -0.509292*x**4*y -0.876962*x**3*y**2 + 1.23302*x**2*y**3 -0.077379*x*y**4 -0.0589707*y**5 -1.52695*x**3*z**2 -0.643317*x**2*y*z**2 + 3.09516*x*y**2*z**2 -0.643317*y**3*z**2 + 0.247613*x*z**4 + 0.428878*y*z**4\n",
    "            fifth_2 = 0.96686*x**4*y + 0.964265*x**3*y**2 -1.72842*x**2*y**3 -0.727203*x*y**4 + 0.234432*y**5 -0.964265*x**3*z**2 -0.615905*x**2*y*z**2 + 1.47042*x*y**2*z**2 -0.615905*y**3*z**2 + 0.237062*x*z**4 + 0.410603*y*z**4\n",
    "            fifth_3 = 0.900562*x**4*z + 0.400687*x**3*y*z -0.0495722*x**2*y**2*z -2.00344*x*y**3*z + 0.437888*y**4*z -1.7846*x**2*z**3 + 1.60275*x*y*z**3 -0.859252*y**2*z**3 + 0.264385*z**5\n",
    "            fifth_4 = 0.17967*x**3*y**2 + 0.518662*x**2*y**3 + 0.419229*x*y**4 + 0.103732*y**5 -0.17967*x**3*z**2 -1.55599*x**2*y*z**2 -3.05439*x*y**2*z**2 -1.55599*y**3*z**2 + 0.598899*x*z**4 + 1.03732*y*z**4\n",
    "            fifth_5 = 3.13679*x**3*y*z -2.06432*x**2*y**2*z -1.33807*x*y**3*z + 0.519245*y**4*z + 0.688106*x**2*z**3 -1.79872*x*y*z**3 -0.350385*y**2*z**3 -0.0337721*z**5\n",
    "            fifth_6 = 1.77394*x**2*y**2*z + 2.04837*x*y**3*z + 0.591312*y**4*z -0.591312*x**2*z**3 -2.04837*x*y*z**3 -1.77394*y**2*z**3 + 0.236525*z**5\n",
    "            ff1+=fifth_1\n",
    "            ff2+=fifth_2\n",
    "            ff3+=fifth_3\n",
    "            ff4+=fifth_4\n",
    "            ff5+=fifth_5\n",
    "            ff6+=fifth_6\n",
    "            beta_fourth = 0.365148*x**4 -1.09545*x**2*y**2 + 0.365148*y**4 -1.09545*x**2*z**2 -1.09545*y**2*z**2 + 0.365148*z**4\n",
    "            bfo+=beta_fourth\n",
    "        #arrange all functions at each order into vector, and find magnitude of each vector    \n",
    "        first_order=np.linalg.norm(np.array([f1,f2]))\n",
    "        second_order=np.linalg.norm(np.array([s1,s2,s3]))\n",
    "        third_order=np.linalg.norm(np.array([t1,t2,t3,t4]))\n",
    "        fourth_order=np.linalg.norm(np.array([fo1,fo2,fo3,fo4,fo5]))\n",
    "        fifth_order=np.linalg.norm(np.array([ff1,ff2,ff3,ff4,ff5,ff6]))\n",
    "        beta_fourth_order=np.linalg.norm(np.array([bfo]))\n",
    "        #arrange descriptors into list of 6 components\n",
    "        sym_func = [first_order,second_order,third_order,fourth_order,fifth_order,beta_fourth_order]\n",
    "        desc.extend(sym_func)\n",
    "        #append descriptor for particle i into overall descriptor list\n",
    "        descriptors.append(desc)\n",
    "    return descriptors, coords"
   ]
  },
  {
   "cell_type": "code",
   "execution_count": 5,
   "metadata": {},
   "outputs": [],
   "source": [
    "#classify particle as alpha, beta or quenched\n",
    "def predict_phase(descriptors,coords):\n",
    "    predictions = GeTe_classifier.predict(descriptors)\n",
    "    alpha=0\n",
    "    beta=0\n",
    "    quenched=0\n",
    "    alpha_coords=[]\n",
    "    beta_coords=[]\n",
    "    quenched_coords=[]\n",
    "    for i, c in enumerate(coords):\n",
    "        if np.argmax(predictions[i])==0:\n",
    "            alpha+=1\n",
    "            alpha_coords.append(c)\n",
    "        elif np.argmax(predictions[i])==1:\n",
    "            beta+=1\n",
    "            beta_coords.append(c)\n",
    "        else:\n",
    "            quenched+=1\n",
    "            quenched_coords.append(c)\n",
    "    return alpha, beta, quenched, alpha_coords, beta_coords, quenched_coords"
   ]
  },
  {
   "cell_type": "code",
   "execution_count": 6,
   "metadata": {},
   "outputs": [],
   "source": [
    "def plot_crystal(alpha, beta, quenched):\n",
    "    alpha_x=[]\n",
    "    alpha_y=[]\n",
    "    alpha_z=[]\n",
    "    for e,f,g in alpha:\n",
    "        alpha_x.append(e)\n",
    "        alpha_y.append(f)\n",
    "        alpha_z.append(g)\n",
    "    beta_x=[]\n",
    "    beta_y=[]\n",
    "    beta_z=[]\n",
    "    for m,n,o in beta:\n",
    "        beta_x.append(m)\n",
    "        beta_y.append(n)\n",
    "        beta_z.append(o)\n",
    "    quenched_x=[]\n",
    "    quenched_y=[]\n",
    "    quenched_z=[]\n",
    "    for p,q,r in quenched:\n",
    "        quenched_x.append(p)\n",
    "        quenched_y.append(q)\n",
    "        quenched_z.append(r)\n",
    "    #plot alpha particles in red, beta particles in green, quenched particles in blue\n",
    "    mlab.points3d(alpha_x, alpha_y, alpha_z, scale_factor=1.0,color=(1,0,0), mode='sphere',resolution=12,opacity=1.0)\n",
    "    mlab.points3d(beta_x, beta_y, beta_z, scale_factor=1.0,color=(0,1,0), mode='sphere',resolution=12,opacity=1.0)\n",
    "    mlab.points3d(quenched_x, quenched_y, quenched_z, scale_factor=1.0,color=(0,0,1), mode='sphere',resolution=12,opacity=1.0)\n",
    "    mlab.show()\n",
    "    return"
   ]
  },
  {
   "cell_type": "code",
   "execution_count": 7,
   "metadata": {},
   "outputs": [],
   "source": [
    "def classify_crystal(file):\n",
    "    start = time.time()\n",
    "    desc, coords = find_descriptor(file)\n",
    "    alpha, beta, quenched, alpha_coords, beta_coords, quenched_coords = predict_phase(desc,coords)\n",
    "    no_particles=[alpha,beta,quenched]\n",
    "    categories=['alpha','beta','quenched']\n",
    "    print('This structure is: {}'.format(categories[np.argmax(no_particles)]))\n",
    "    end = time.time()\n",
    "    t=end-start\n",
    "    print('Total time for descriptor creation and particle classification = {}s'.format(t))\n",
    "    plot_crystal(alpha_coords,beta_coords,quenched_coords)\n",
    "    return "
   ]
  },
  {
   "cell_type": "code",
   "execution_count": 8,
   "metadata": {},
   "outputs": [
    {
     "name": "stdout",
     "output_type": "stream",
     "text": [
      "This structure is: beta\n",
      "Total time for descriptor creation and particle classification = 1.2195475101470947s\n"
     ]
    }
   ],
   "source": [
    "classify_crystal(file)"
   ]
  },
  {
   "cell_type": "code",
   "execution_count": null,
   "metadata": {
    "scrolled": true
   },
   "outputs": [],
   "source": []
  },
  {
   "cell_type": "code",
   "execution_count": null,
   "metadata": {},
   "outputs": [],
   "source": []
  }
 ],
 "metadata": {
  "kernelspec": {
   "display_name": "Python 3",
   "language": "python",
   "name": "python3"
  },
  "language_info": {
   "codemirror_mode": {
    "name": "ipython",
    "version": 3
   },
   "file_extension": ".py",
   "mimetype": "text/x-python",
   "name": "python",
   "nbconvert_exporter": "python",
   "pygments_lexer": "ipython3",
   "version": "3.6.9"
  }
 },
 "nbformat": 4,
 "nbformat_minor": 2
}
